{
 "cells": [
  {
   "cell_type": "code",
   "execution_count": 21,
   "metadata": {},
   "outputs": [
    {
     "name": "stdout",
     "output_type": "stream",
     "text": [
      "Note: you may need to restart the kernel to use updated packages.\n"
     ]
    }
   ],
   "source": [
    "%pip install -q langchain langchain_community"
   ]
  },
  {
   "cell_type": "code",
   "execution_count": 22,
   "metadata": {},
   "outputs": [
    {
     "data": {
      "text/plain": [
       "True"
      ]
     },
     "execution_count": 22,
     "metadata": {},
     "output_type": "execute_result"
    }
   ],
   "source": [
    "import os\n",
    "import asyncio\n",
    "from lightrag import LightRAG, QueryParam\n",
    "from lightrag.llm import openai_complete_if_cache, openai_embedding\n",
    "from lightrag.llm import ollama_model_complete, ollama_embedding\n",
    "from lightrag.utils import EmbeddingFunc\n",
    "import numpy as np\n",
    "import textract\n",
    "from dotenv import load_dotenv\n",
    "import nest_asyncio \n",
    "nest_asyncio.apply() \n",
    "\n",
    "load_dotenv()"
   ]
  },
  {
   "cell_type": "code",
   "execution_count": 23,
   "metadata": {},
   "outputs": [],
   "source": [
    "WORKING_DIR = \"../data/test_paper\"\n",
    "\n",
    "if not os.path.exists(WORKING_DIR):\n",
    "    os.mkdir(WORKING_DIR)"
   ]
  },
  {
   "cell_type": "code",
   "execution_count": 24,
   "metadata": {},
   "outputs": [],
   "source": [
    "async def llm_model_func(\n",
    "    prompt, system_prompt=None, history_messages=[], **kwargs\n",
    ") -> str:\n",
    "    return await openai_complete_if_cache(\n",
    "        \"qwen-plus\",\n",
    "        prompt,\n",
    "        system_prompt=system_prompt,\n",
    "        history_messages=history_messages,\n",
    "        api_key=os.getenv(\"DASHSCOPE_API_KEY\"),\n",
    "        base_url=\"https://dashscope.aliyuncs.com/compatible-mode/v1\",\n",
    "        **kwargs,\n",
    "    )"
   ]
  },
  {
   "cell_type": "code",
   "execution_count": 25,
   "metadata": {},
   "outputs": [
    {
     "name": "stderr",
     "output_type": "stream",
     "text": [
      "INFO:lightrag:Logger initialized for working directory: ../data/test_paper\n",
      "DEBUG:lightrag:LightRAG init with param:\n",
      "  working_dir = ../data/test_paper,\n",
      "  kv_storage = JsonKVStorage,\n",
      "  vector_storage = NanoVectorDBStorage,\n",
      "  graph_storage = NetworkXStorage,\n",
      "  log_level = DEBUG,\n",
      "  chunk_token_size = 500,\n",
      "  chunk_overlap_token_size = 100,\n",
      "  tiktoken_model_name = gpt-4o-mini,\n",
      "  entity_extract_max_gleaning = 1,\n",
      "  entity_summary_to_max_tokens = 500,\n",
      "  node_embedding_algorithm = node2vec,\n",
      "  node2vec_params = {'dimensions': 1536, 'num_walks': 10, 'walk_length': 40, 'window_size': 2, 'iterations': 3, 'random_seed': 3},\n",
      "  embedding_func = {'embedding_dim': 1024, 'max_token_size': 512, 'func': <function <lambda> at 0x7fa35f66bec0>},\n",
      "  embedding_batch_num = 32,\n",
      "  embedding_func_max_async = 16,\n",
      "  llm_model_func = <function llm_model_func at 0x7fa4c032fc40>,\n",
      "  llm_model_name = meta-llama/Llama-3.2-1B-Instruct,\n",
      "  llm_model_max_token_size = 32768,\n",
      "  llm_model_max_async = 16,\n",
      "  llm_model_kwargs = {},\n",
      "  vector_db_storage_cls_kwargs = {},\n",
      "  enable_llm_cache = True,\n",
      "  addon_params = {},\n",
      "  convert_response_to_json_func = <function convert_response_to_json at 0x7fa364499260>\n",
      "\n",
      "INFO:lightrag:Load KV llm_response_cache with 20 data\n",
      "INFO:lightrag:Load KV full_docs with 9 data\n",
      "INFO:lightrag:Load KV text_chunks with 9 data\n",
      "INFO:lightrag:Loaded graph from ../data/test_paper/graph_chunk_entity_relation.graphml with 58 nodes, 78 edges\n",
      "INFO:nano-vectordb:Load (57, 1024) data\n",
      "INFO:nano-vectordb:Init {'embedding_dim': 1024, 'metric': 'cosine', 'storage_file': '../data/test_paper/vdb_entities.json'} 57 data\n",
      "INFO:nano-vectordb:Load (78, 1024) data\n",
      "INFO:nano-vectordb:Init {'embedding_dim': 1024, 'metric': 'cosine', 'storage_file': '../data/test_paper/vdb_relationships.json'} 78 data\n",
      "INFO:nano-vectordb:Load (9, 1024) data\n",
      "INFO:nano-vectordb:Init {'embedding_dim': 1024, 'metric': 'cosine', 'storage_file': '../data/test_paper/vdb_chunks.json'} 9 data\n"
     ]
    }
   ],
   "source": [
    "rag = LightRAG(\n",
    "    working_dir=WORKING_DIR,\n",
    "    # kg=\"Neo4JStorage\",\n",
    "    llm_model_func=llm_model_func,\n",
    "    embedding_func=EmbeddingFunc(\n",
    "        embedding_dim=1024,\n",
    "        max_token_size=512,\n",
    "        func=lambda texts: ollama_embedding(\n",
    "            texts, embed_model=\"viosay/conan-embedding-v1:latest\", host=\"http://192.168.69.234:11343\"\n",
    "        ),\n",
    "    ),\n",
    "    chunk_token_size=500,\n",
    "    log_level=\"DEBUG\",\n",
    ")"
   ]
  },
  {
   "cell_type": "code",
   "execution_count": 26,
   "metadata": {},
   "outputs": [
    {
     "data": {
      "text/plain": [
       "['title: 利用单词超团的二分图文本聚类算法\\nauthors: 朱君 曲超 汤庸\\nsource: 电子科技大学学报，2008，37（3），439-442\\nsourceDetail: \\ndate: 2008.03\\ntype: 期刊论文\\nkeyword: \\nsummary: ']"
      ]
     },
     "execution_count": 26,
     "metadata": {},
     "output_type": "execute_result"
    }
   ],
   "source": [
    "from langchain_community.document_loaders.csv_loader import CSVLoader\n",
    "\n",
    "doc_path = \"../data/paper/scholat_paper_ed/scholat_paper_ed_001.csv\"\n",
    "\n",
    "loader = CSVLoader(doc_path)\n",
    "data = loader.load()\n",
    "\n",
    "data = [d.page_content for d in data]\n",
    "need_to_insert_data = data[12:13]\n",
    "need_to_insert_data"
   ]
  },
  {
   "cell_type": "code",
   "execution_count": 27,
   "metadata": {},
   "outputs": [
    {
     "name": "stderr",
     "output_type": "stream",
     "text": [
      "INFO:lightrag:[New Docs] inserting 1 docs\n",
      "INFO:lightrag:[New Chunks] inserting 1 chunks\n",
      "DEBUG:lightrag:[Inserting chunks] {'chunk-ec26a9f4d15c5f8f3cb88867463473e8': {'tokens': 73, 'content': 'title: 利用单词超团的二分图文本聚类算法\\nauthors: 朱君 曲超 汤庸\\nsource: 电子科技大学学报，2008，37（3），439-442\\nsourceDetail: \\ndate: 2008.03\\ntype: 期刊论文\\nkeyword: \\nsummary:', 'chunk_order_index': 0, 'full_doc_id': 'doc-ec26a9f4d15c5f8f3cb88867463473e8'}}\n",
      "INFO:lightrag:Inserting 1 vectors to chunks\n",
      "INFO:httpx:HTTP Request: POST http://192.168.69.234:11343/api/embed \"HTTP/1.1 200 OK\"\n",
      "INFO:lightrag:[Entity Extraction]...\n",
      "INFO:httpx:HTTP Request: POST https://dashscope.aliyuncs.com/compatible-mode/v1/chat/completions \"HTTP/1.1 200 OK\"\n",
      "INFO:httpx:HTTP Request: POST https://dashscope.aliyuncs.com/compatible-mode/v1/chat/completions \"HTTP/1.1 200 OK\"\n"
     ]
    },
    {
     "name": "stdout",
     "output_type": "stream",
     "text": [
      "⠙ Processed 1 chunks, 12 entities(duplicated), 11 relations(duplicated)\r"
     ]
    },
    {
     "name": "stderr",
     "output_type": "stream",
     "text": [
      "DEBUG:lightrag:Node \"利用单词超团的二分图文本聚类算法\" is new to graph.\n",
      "DEBUG:lightrag:Original description tokens: 17\n",
      "DEBUG:lightrag:Description is short enough, no need to summarize.\n",
      "DEBUG:lightrag:Final description for \"利用单词超团的二分图文本聚类算法\": \"This paper discusses a text clustering algorithm using bipartite graphs of word hypergroups.\"\n",
      "DEBUG:lightrag:Upserted node \"利用单词超团的二分图文本聚类算法\" into knowledge graph.\n",
      "DEBUG:lightrag:Node \"朱君\" is new to graph.\n",
      "DEBUG:lightrag:Original description tokens: 27\n",
      "DEBUG:lightrag:Description is short enough, no need to summarize.\n",
      "DEBUG:lightrag:Final description for \"朱君\": \"朱君 is one of the authors of the paper '利用单词超团的二分图文本聚类算法'.\"\n",
      "DEBUG:lightrag:Upserted node \"朱君\" into knowledge graph.\n",
      "DEBUG:lightrag:Node \"曲超\" is new to graph.\n",
      "DEBUG:lightrag:Original description tokens: 27\n",
      "DEBUG:lightrag:Description is short enough, no need to summarize.\n",
      "DEBUG:lightrag:Final description for \"曲超\": \"曲超 is one of the authors of the paper '利用单词超团的二分图文本聚类算法'.\"\n",
      "DEBUG:lightrag:Upserted node \"曲超\" into knowledge graph.\n",
      "DEBUG:lightrag:Node \"汤庸\" already exists in graph.\n",
      "DEBUG:lightrag:Original description tokens: 289\n",
      "DEBUG:lightrag:Description is short enough, no need to summarize.\n",
      "DEBUG:lightrag:Final description for \"汤庸\": \"Tang Yong is one of the authors of the paper '时态知识和时态数据的统一模型研究'.\"<SEP>\"The author of the paper 'An Overview of Computer-Supported Collaborative Work', published in 1999.\"<SEP>\"汤庸 is one of the authors of a paper on the development of interactive web-based courseware systems.\"<SEP>\"汤庸 is one of the authors of the paper '基于描述逻辑的CIM模型', published in 微电子学与计算机 in 2007.\"<SEP>\"汤庸 is one of the authors of the paper '基于描述逻辑的带属性依赖时序ER模型', published in 2007.\"<SEP>\"汤庸 is one of the authors of the paper '基于时限的角色访问控制委托模型', contributing to research in computer science.\"<SEP>\"汤庸是该论文的作者之一，与叶小平共同研究时态变量“Now”的语义及相应时态关系运算。\"<SEP>\"汤庸是该论文的作者之一。\"<SEP>\"汤庸 is one of the authors of the paper '基于XML的自动学习Web信息抽取' (Automatic Web Information Extraction Based on XML).\"<SEP>\"汤庸 is one of the authors of the paper '利用单词超团的二分图文本聚类算法'.\"\n",
      "DEBUG:lightrag:Upserted node \"汤庸\" into knowledge graph.\n",
      "DEBUG:lightrag:Node \"电子科技大学学报\" is new to graph.\n",
      "DEBUG:lightrag:Original description tokens: 42\n",
      "DEBUG:lightrag:Description is short enough, no need to summarize.\n",
      "DEBUG:lightrag:Final description for \"电子科技大学学报\": \"电子科技大学学报 (Journal of University of Electronic Science and Technology of China) is the journal where the paper '利用单词超团的二分图文本聚类算法' was published.\"\n",
      "DEBUG:lightrag:Upserted node \"电子科技大学学报\" into knowledge graph.\n",
      "DEBUG:lightrag:Node \"2008.03\" already exists in graph.\n",
      "DEBUG:lightrag:Original description tokens: 88\n",
      "DEBUG:lightrag:Description is short enough, no need to summarize.\n",
      "DEBUG:lightrag:Final description for \"2008.03\": \"2008.03 is the publication date of the paper '基于XML的自动学习Web信息抽取' (Automatic Web Information Extraction Based on XML).\"<SEP>\"2008.03 is the specific date when the paper '基于时限的角色访问控制委托模型' was published.\"<SEP>\"The date when the paper '利用单词超团的二分图文本聚类算法' was published.\"\n",
      "DEBUG:lightrag:Upserted node \"2008.03\" into knowledge graph.\n",
      "DEBUG:lightrag:Node \"期刊论文\" already exists in graph.\n",
      "DEBUG:lightrag:Original description tokens: 166\n",
      "DEBUG:lightrag:Description is short enough, no need to summarize.\n",
      "DEBUG:lightrag:Final description for \"期刊论文\": \"The type of the publication, which is a journal paper.\"<SEP>\"期刊论文 is the type of publication for the paper '基于时限的角色访问控制委托模型', indicating it is a journal article.\"<SEP>\"期刊论文 is the type of publication for the paper '时态变量“Now”语义及相应时态关系运算'.\"<SEP>\"期刊论文是指在学术期刊上发表的研究成果。\"<SEP>\"期刊论文 (Journal Paper) is the type of publication for the paper '基于XML的自动学习Web信息抽取' (Automatic Web Information Extraction Based on XML).\"<SEP>\"期刊论文 (Journal Article) is the type of the publication '利用单词超团的二分图文本聚类算法'.\"\n",
      "DEBUG:lightrag:Upserted node \"期刊论文\" into knowledge graph.\n",
      "DEBUG:lightrag:Node \"UNIVERSITY OF ELECTRONIC SCIENCE AND TECHNOLOGY OF CHINA\" is new to graph.\n",
      "DEBUG:lightrag:Original description tokens: 23\n",
      "DEBUG:lightrag:Description is short enough, no need to summarize.\n",
      "DEBUG:lightrag:Final description for \"UNIVERSITY OF ELECTRONIC SCIENCE AND TECHNOLOGY OF CHINA\": \"University of Electronic Science and Technology of China is the institution associated with the journal 电子科技大学学报.\"\n",
      "DEBUG:lightrag:Upserted node \"UNIVERSITY OF ELECTRONIC SCIENCE AND TECHNOLOGY OF CHINA\" into knowledge graph.\n",
      "DEBUG:lightrag:Node \"CHINA\" is new to graph.\n",
      "DEBUG:lightrag:Original description tokens: 18\n",
      "DEBUG:lightrag:Description is short enough, no need to summarize.\n",
      "DEBUG:lightrag:Final description for \"CHINA\": \"China is the country where the University of Electronic Science and Technology of China is located.\"\n",
      "DEBUG:lightrag:Upserted node \"CHINA\" into knowledge graph.\n",
      "DEBUG:lightrag:Node \"2008\" already exists in graph.\n",
      "DEBUG:lightrag:Original description tokens: 79\n",
      "DEBUG:lightrag:Description is short enough, no need to summarize.\n",
      "DEBUG:lightrag:Final description for \"2008\": \"2008 is the year in which the paper '基于时限的角色访问控制委托模型' was published in the journal 计算机科学.\"<SEP>\"2008 is the year the paper was published, providing a broader temporal context.\"<SEP>\"2008 is the year when the paper '利用单词超团的二分图文本聚类算法' was published.\"\n",
      "DEBUG:lightrag:Upserted node \"2008\" into knowledge graph.\n",
      "DEBUG:lightrag:Node \"37(3)\" is new to graph.\n",
      "DEBUG:lightrag:Original description tokens: 41\n",
      "DEBUG:lightrag:Description is short enough, no need to summarize.\n",
      "DEBUG:lightrag:Final description for \"37(3)\": \"37(3) is the volume and issue number of the journal 电子科技大学学报 where the paper '利用单词超团的二分图文本聚类算法' was published.\"\n",
      "DEBUG:lightrag:Upserted node \"37(3)\" into knowledge graph.\n",
      "DEBUG:lightrag:Node \"439-442\" is new to graph.\n",
      "DEBUG:lightrag:Original description tokens: 36\n",
      "DEBUG:lightrag:Description is short enough, no need to summarize.\n",
      "DEBUG:lightrag:Final description for \"439-442\": \"439-442 are the page numbers of the paper '利用单词超团的二分图文本聚类算法' in the journal 电子科技大学学报.\"\n",
      "DEBUG:lightrag:Upserted node \"439-442\" into knowledge graph.\n",
      "DEBUG:lightrag:Edge from \"利用单词超团的二分图文本聚类算法\" to \"朱君\" is new to graph.\n",
      "DEBUG:lightrag:Original description tokens: 27\n",
      "DEBUG:lightrag:Description is short enough, no need to summarize.\n",
      "DEBUG:lightrag:Final description for edge \"利用单词超团的二分图文本聚类算法\"->\"朱君\": \"朱君 is one of the authors of the paper '利用单词超团的二分图文本聚类算法'.\"\n",
      "DEBUG:lightrag:Upserted edge from \"利用单词超团的二分图文本聚类算法\" to \"朱君\" into knowledge graph.\n",
      "DEBUG:lightrag:Edge from \"利用单词超团的二分图文本聚类算法\" to \"曲超\" is new to graph.\n",
      "DEBUG:lightrag:Original description tokens: 27\n",
      "DEBUG:lightrag:Description is short enough, no need to summarize.\n",
      "DEBUG:lightrag:Final description for edge \"利用单词超团的二分图文本聚类算法\"->\"曲超\": \"曲超 is one of the authors of the paper '利用单词超团的二分图文本聚类算法'.\"\n",
      "DEBUG:lightrag:Upserted edge from \"利用单词超团的二分图文本聚类算法\" to \"曲超\" into knowledge graph.\n",
      "DEBUG:lightrag:Edge from \"利用单词超团的二分图文本聚类算法\" to \"汤庸\" is new to graph.\n",
      "DEBUG:lightrag:Original description tokens: 28\n",
      "DEBUG:lightrag:Description is short enough, no need to summarize.\n",
      "DEBUG:lightrag:Final description for edge \"利用单词超团的二分图文本聚类算法\"->\"汤庸\": \"汤庸 is one of the authors of the paper '利用单词超团的二分图文本聚类算法'.\"\n",
      "DEBUG:lightrag:Upserted edge from \"利用单词超团的二分图文本聚类算法\" to \"汤庸\" into knowledge graph.\n",
      "DEBUG:lightrag:Edge from \"利用单词超团的二分图文本聚类算法\" to \"电子科技大学学报\" is new to graph.\n",
      "DEBUG:lightrag:Original description tokens: 29\n",
      "DEBUG:lightrag:Description is short enough, no need to summarize.\n",
      "DEBUG:lightrag:Final description for edge \"利用单词超团的二分图文本聚类算法\"->\"电子科技大学学报\": \"The paper '利用单词超团的二分图文本聚类算法' was published in the journal 电子科技大学学报.\"\n",
      "DEBUG:lightrag:Upserted edge from \"利用单词超团的二分图文本聚类算法\" to \"电子科技大学学报\" into knowledge graph.\n",
      "DEBUG:lightrag:Edge from \"2008.03\" to \"利用单词超团的二分图文本聚类算法\" is new to graph.\n",
      "DEBUG:lightrag:Original description tokens: 28\n",
      "DEBUG:lightrag:Description is short enough, no need to summarize.\n",
      "DEBUG:lightrag:Final description for edge \"2008.03\"->\"利用单词超团的二分图文本聚类算法\": \"The paper '利用单词超团的二分图文本聚类算法' was published on the date 2008.03.\"\n",
      "DEBUG:lightrag:Upserted edge from \"2008.03\" to \"利用单词超团的二分图文本聚类算法\" into knowledge graph.\n",
      "DEBUG:lightrag:Edge from \"利用单词超团的二分图文本聚类算法\" to \"期刊论文\" is new to graph.\n",
      "DEBUG:lightrag:Original description tokens: 29\n",
      "DEBUG:lightrag:Description is short enough, no need to summarize.\n",
      "DEBUG:lightrag:Final description for edge \"利用单词超团的二分图文本聚类算法\"->\"期刊论文\": \"The paper '利用单词超团的二分图文本聚类算法' is classified as a 期刊论文 (Journal Article).\"\n",
      "DEBUG:lightrag:Upserted edge from \"利用单词超团的二分图文本聚类算法\" to \"期刊论文\" into knowledge graph.\n",
      "DEBUG:lightrag:Edge from \"UNIVERSITY OF ELECTRONIC SCIENCE AND TECHNOLOGY OF CHINA\" to \"电子科技大学学报\" is new to graph.\n",
      "DEBUG:lightrag:Original description tokens: 21\n",
      "DEBUG:lightrag:Description is short enough, no need to summarize.\n",
      "DEBUG:lightrag:Final description for edge \"UNIVERSITY OF ELECTRONIC SCIENCE AND TECHNOLOGY OF CHINA\"->\"电子科技大学学报\": \"电子科技大学学报 is the journal published by the University of Electronic Science and Technology of China.\"\n",
      "DEBUG:lightrag:Upserted edge from \"UNIVERSITY OF ELECTRONIC SCIENCE AND TECHNOLOGY OF CHINA\" to \"电子科技大学学报\" into knowledge graph.\n",
      "DEBUG:lightrag:Edge from \"CHINA\" to \"UNIVERSITY OF ELECTRONIC SCIENCE AND TECHNOLOGY OF CHINA\" is new to graph.\n",
      "DEBUG:lightrag:Original description tokens: 14\n",
      "DEBUG:lightrag:Description is short enough, no need to summarize.\n",
      "DEBUG:lightrag:Final description for edge \"CHINA\"->\"UNIVERSITY OF ELECTRONIC SCIENCE AND TECHNOLOGY OF CHINA\": \"The University of Electronic Science and Technology of China is located in China.\"\n",
      "DEBUG:lightrag:Upserted edge from \"CHINA\" to \"UNIVERSITY OF ELECTRONIC SCIENCE AND TECHNOLOGY OF CHINA\" into knowledge graph.\n",
      "DEBUG:lightrag:Edge from \"37(3)\" to \"利用单词超团的二分图文本聚类算法\" is new to graph.\n",
      "DEBUG:lightrag:Original description tokens: 37\n",
      "DEBUG:lightrag:Description is short enough, no need to summarize.\n",
      "DEBUG:lightrag:Final description for edge \"37(3)\"->\"利用单词超团的二分图文本聚类算法\": \"The paper '利用单词超团的二分图文本聚类算法' was published in volume 37, issue 3 of the journal 电子科技大学学报.\"\n",
      "DEBUG:lightrag:Upserted edge from \"37(3)\" to \"利用单词超团的二分图文本聚类算法\" into knowledge graph.\n",
      "DEBUG:lightrag:Edge from \"439-442\" to \"利用单词超团的二分图文本聚类算法\" is new to graph.\n",
      "DEBUG:lightrag:Original description tokens: 35\n",
      "DEBUG:lightrag:Description is short enough, no need to summarize.\n",
      "DEBUG:lightrag:Final description for edge \"439-442\"->\"利用单词超团的二分图文本聚类算法\": \"The paper '利用单词超团的二分图文本聚类算法' is found on pages 439-442 in the journal 电子科技大学学报.\"\n",
      "DEBUG:lightrag:Upserted edge from \"439-442\" to \"利用单词超团的二分图文本聚类算法\" into knowledge graph.\n",
      "DEBUG:lightrag:Edge from \"2008\" to \"2008.03\" is new to graph.\n",
      "DEBUG:lightrag:Original description tokens: 36\n",
      "DEBUG:lightrag:Description is short enough, no need to summarize.\n",
      "DEBUG:lightrag:Final description for edge \"2008\"->\"2008.03\": \"The date 2008.03 is part of the year 2008 when the paper '利用单词超团的二分图文本聚类算法' was published.\"\n",
      "DEBUG:lightrag:Upserted edge from \"2008\" to \"2008.03\" into knowledge graph.\n",
      "DEBUG:lightrag:[upserting entity] {'ent-9d9230a2aeaf2159e4e10f1223fedf5e': {'content': '\"利用单词超团的二分图文本聚类算法\"\"This paper discusses a text clustering algorithm using bipartite graphs of word hypergroups.\"', 'entity_name': '\"利用单词超团的二分图文本聚类算法\"'}, 'ent-331955a7a84cf3f9b9ffb39d02700acc': {'content': '\"朱君\"\"朱君 is one of the authors of the paper \\'利用单词超团的二分图文本聚类算法\\'.\"', 'entity_name': '\"朱君\"'}, 'ent-66b44c6749289ace4c1700f389ba490d': {'content': '\"曲超\"\"曲超 is one of the authors of the paper \\'利用单词超团的二分图文本聚类算法\\'.\"', 'entity_name': '\"曲超\"'}, 'ent-07064580d380246514eec30e9aa69df8': {'content': '\"汤庸\"\"Tang Yong is one of the authors of the paper \\'时态知识和时态数据的统一模型研究\\'.\"<SEP>\"The author of the paper \\'An Overview of Computer-Supported Collaborative Work\\', published in 1999.\"<SEP>\"汤庸 is one of the authors of a paper on the development of interactive web-based courseware systems.\"<SEP>\"汤庸 is one of the authors of the paper \\'基于描述逻辑的CIM模型\\', published in 微电子学与计算机 in 2007.\"<SEP>\"汤庸 is one of the authors of the paper \\'基于描述逻辑的带属性依赖时序ER模型\\', published in 2007.\"<SEP>\"汤庸 is one of the authors of the paper \\'基于时限的角色访问控制委托模型\\', contributing to research in computer science.\"<SEP>\"汤庸是该论文的作者之一，与叶小平共同研究时态变量“Now”的语义及相应时态关系运算。\"<SEP>\"汤庸是该论文的作者之一。\"<SEP>\"汤庸 is one of the authors of the paper \\'基于XML的自动学习Web信息抽取\\' (Automatic Web Information Extraction Based on XML).\"<SEP>\"汤庸 is one of the authors of the paper \\'利用单词超团的二分图文本聚类算法\\'.\"', 'entity_name': '\"汤庸\"'}, 'ent-780127f6c7c0aafa5f929a3e3452c0c2': {'content': '\"电子科技大学学报\"\"电子科技大学学报 (Journal of University of Electronic Science and Technology of China) is the journal where the paper \\'利用单词超团的二分图文本聚类算法\\' was published.\"', 'entity_name': '\"电子科技大学学报\"'}, 'ent-a3d76ae5b8c65fc1fad0f768ea79cc30': {'content': '\"2008.03\"\"2008.03 is the publication date of the paper \\'基于XML的自动学习Web信息抽取\\' (Automatic Web Information Extraction Based on XML).\"<SEP>\"2008.03 is the specific date when the paper \\'基于时限的角色访问控制委托模型\\' was published.\"<SEP>\"The date when the paper \\'利用单词超团的二分图文本聚类算法\\' was published.\"', 'entity_name': '\"2008.03\"'}, 'ent-fd2eea2cc85b1203faf18a258074d945': {'content': '\"期刊论文\"\"The type of the publication, which is a journal paper.\"<SEP>\"期刊论文 is the type of publication for the paper \\'基于时限的角色访问控制委托模型\\', indicating it is a journal article.\"<SEP>\"期刊论文 is the type of publication for the paper \\'时态变量“Now”语义及相应时态关系运算\\'.\"<SEP>\"期刊论文是指在学术期刊上发表的研究成果。\"<SEP>\"期刊论文 (Journal Paper) is the type of publication for the paper \\'基于XML的自动学习Web信息抽取\\' (Automatic Web Information Extraction Based on XML).\"<SEP>\"期刊论文 (Journal Article) is the type of the publication \\'利用单词超团的二分图文本聚类算法\\'.\"', 'entity_name': '\"期刊论文\"'}, 'ent-1c61b2e033965a4916d569383d71a055': {'content': '\"UNIVERSITY OF ELECTRONIC SCIENCE AND TECHNOLOGY OF CHINA\"\"University of Electronic Science and Technology of China is the institution associated with the journal 电子科技大学学报.\"', 'entity_name': '\"UNIVERSITY OF ELECTRONIC SCIENCE AND TECHNOLOGY OF CHINA\"'}, 'ent-0fff96cab541f9d30c61fbed6293aa53': {'content': '\"CHINA\"\"China is the country where the University of Electronic Science and Technology of China is located.\"', 'entity_name': '\"CHINA\"'}, 'ent-5571067e8d33eea43834131f2f227d8d': {'content': '\"2008\"\"2008 is the year in which the paper \\'基于时限的角色访问控制委托模型\\' was published in the journal 计算机科学.\"<SEP>\"2008 is the year the paper was published, providing a broader temporal context.\"<SEP>\"2008 is the year when the paper \\'利用单词超团的二分图文本聚类算法\\' was published.\"', 'entity_name': '\"2008\"'}, 'ent-ac03add5f3da60d0f5b86e0e2599386e': {'content': '\"37(3)\"\"37(3) is the volume and issue number of the journal 电子科技大学学报 where the paper \\'利用单词超团的二分图文本聚类算法\\' was published.\"', 'entity_name': '\"37(3)\"'}, 'ent-1fc203106952279d9897f2b23353c0d6': {'content': '\"439-442\"\"439-442 are the page numbers of the paper \\'利用单词超团的二分图文本聚类算法\\' in the journal 电子科技大学学报.\"', 'entity_name': '\"439-442\"'}}\n",
      "INFO:lightrag:Inserting 12 vectors to entities\n"
     ]
    },
    {
     "name": "stdout",
     "output_type": "stream",
     "text": [
      "\n"
     ]
    },
    {
     "name": "stderr",
     "output_type": "stream",
     "text": [
      "INFO:httpx:HTTP Request: POST http://192.168.69.234:11343/api/embed \"HTTP/1.1 200 OK\"\n",
      "INFO:httpx:HTTP Request: POST http://192.168.69.234:11343/api/embed \"HTTP/1.1 200 OK\"\n",
      "INFO:httpx:HTTP Request: POST http://192.168.69.234:11343/api/embed \"HTTP/1.1 200 OK\"\n",
      "INFO:httpx:HTTP Request: POST http://192.168.69.234:11343/api/embed \"HTTP/1.1 200 OK\"\n",
      "INFO:httpx:HTTP Request: POST http://192.168.69.234:11343/api/embed \"HTTP/1.1 200 OK\"\n",
      "INFO:httpx:HTTP Request: POST http://192.168.69.234:11343/api/embed \"HTTP/1.1 200 OK\"\n",
      "INFO:httpx:HTTP Request: POST http://192.168.69.234:11343/api/embed \"HTTP/1.1 200 OK\"\n",
      "INFO:httpx:HTTP Request: POST http://192.168.69.234:11343/api/embed \"HTTP/1.1 200 OK\"\n",
      "INFO:httpx:HTTP Request: POST http://192.168.69.234:11343/api/embed \"HTTP/1.1 200 OK\"\n",
      "INFO:httpx:HTTP Request: POST http://192.168.69.234:11343/api/embed \"HTTP/1.1 200 OK\"\n",
      "INFO:httpx:HTTP Request: POST http://192.168.69.234:11343/api/embed \"HTTP/1.1 200 OK\"\n",
      "INFO:httpx:HTTP Request: POST http://192.168.69.234:11343/api/embed \"HTTP/1.1 200 OK\"\n",
      "DEBUG:lightrag:[upserting relationship] {'rel-19dbb1284e01a67eb15b0956d6d8a3f6': {'src_id': '\"利用单词超团的二分图文本聚类算法\"', 'tgt_id': '\"朱君\"', 'content': '\"authorship\"\"利用单词超团的二分图文本聚类算法\"\"朱君\"\"朱君 is one of the authors of the paper \\'利用单词超团的二分图文本聚类算法\\'.\"'}, 'rel-ee6aca703f11b8ba3d12eeb56f9ce73a': {'src_id': '\"利用单词超团的二分图文本聚类算法\"', 'tgt_id': '\"曲超\"', 'content': '\"authorship\"\"利用单词超团的二分图文本聚类算法\"\"曲超\"\"曲超 is one of the authors of the paper \\'利用单词超团的二分图文本聚类算法\\'.\"'}, 'rel-a1ec58ff394eb26d18c7d6c893e77d8d': {'src_id': '\"利用单词超团的二分图文本聚类算法\"', 'tgt_id': '\"汤庸\"', 'content': '\"authorship\"\"利用单词超团的二分图文本聚类算法\"\"汤庸\"\"汤庸 is one of the authors of the paper \\'利用单词超团的二分图文本聚类算法\\'.\"'}, 'rel-7f7f9406a0f3814f4fbcd975b8314916': {'src_id': '\"利用单词超团的二分图文本聚类算法\"', 'tgt_id': '\"电子科技大学学报\"', 'content': '\"publication\"\"利用单词超团的二分图文本聚类算法\"\"电子科技大学学报\"\"The paper \\'利用单词超团的二分图文本聚类算法\\' was published in the journal 电子科技大学学报.\"'}, 'rel-2e10d7c033d911adc0168db28aaf4578': {'src_id': '\"2008.03\"', 'tgt_id': '\"利用单词超团的二分图文本聚类算法\"', 'content': '\"publication date\"\"2008.03\"\"利用单词超团的二分图文本聚类算法\"\"The paper \\'利用单词超团的二分图文本聚类算法\\' was published on the date 2008.03.\"'}, 'rel-2f7032944c31229506962865494b0b8b': {'src_id': '\"利用单词超团的二分图文本聚类算法\"', 'tgt_id': '\"期刊论文\"', 'content': '\"classification\"\"利用单词超团的二分图文本聚类算法\"\"期刊论文\"\"The paper \\'利用单词超团的二分图文本聚类算法\\' is classified as a 期刊论文 (Journal Article).\"'}, 'rel-c8cb887b8e296774736f3610dece4d7f': {'src_id': '\"UNIVERSITY OF ELECTRONIC SCIENCE AND TECHNOLOGY OF CHINA\"', 'tgt_id': '\"电子科技大学学报\"', 'content': '\"institutional affiliation\"\"UNIVERSITY OF ELECTRONIC SCIENCE AND TECHNOLOGY OF CHINA\"\"电子科技大学学报\"\"电子科技大学学报 is the journal published by the University of Electronic Science and Technology of China.\"'}, 'rel-e8b0211fcb8a25d24134450a43215d8c': {'src_id': '\"CHINA\"', 'tgt_id': '\"UNIVERSITY OF ELECTRONIC SCIENCE AND TECHNOLOGY OF CHINA\"', 'content': '\"geographical location\"\"CHINA\"\"UNIVERSITY OF ELECTRONIC SCIENCE AND TECHNOLOGY OF CHINA\"\"The University of Electronic Science and Technology of China is located in China.\"'}, 'rel-7c05b1ebd87efad04841ff73a4d41a10': {'src_id': '\"37(3)\"', 'tgt_id': '\"利用单词超团的二分图文本聚类算法\"', 'content': '\"publication details\"\"37(3)\"\"利用单词超团的二分图文本聚类算法\"\"The paper \\'利用单词超团的二分图文本聚类算法\\' was published in volume 37, issue 3 of the journal 电子科技大学学报.\"'}, 'rel-77cc9b64a043f51ee9e3119b66568e14': {'src_id': '\"439-442\"', 'tgt_id': '\"利用单词超团的二分图文本聚类算法\"', 'content': '\"page range\"\"439-442\"\"利用单词超团的二分图文本聚类算法\"\"The paper \\'利用单词超团的二分图文本聚类算法\\' is found on pages 439-442 in the journal 电子科技大学学报.\"'}, 'rel-ff21fe3366f9d91e3c394d9a1cdfaf48': {'src_id': '\"2008\"', 'tgt_id': '\"2008.03\"', 'content': '\"temporal relationship\"\"2008\"\"2008.03\"\"The date 2008.03 is part of the year 2008 when the paper \\'利用单词超团的二分图文本聚类算法\\' was published.\"'}}\n",
      "INFO:lightrag:Inserting 11 vectors to relationships\n",
      "INFO:httpx:HTTP Request: POST http://192.168.69.234:11343/api/embed \"HTTP/1.1 200 OK\"\n",
      "INFO:httpx:HTTP Request: POST http://192.168.69.234:11343/api/embed \"HTTP/1.1 200 OK\"\n",
      "INFO:httpx:HTTP Request: POST http://192.168.69.234:11343/api/embed \"HTTP/1.1 200 OK\"\n",
      "INFO:httpx:HTTP Request: POST http://192.168.69.234:11343/api/embed \"HTTP/1.1 200 OK\"\n",
      "INFO:httpx:HTTP Request: POST http://192.168.69.234:11343/api/embed \"HTTP/1.1 200 OK\"\n",
      "INFO:httpx:HTTP Request: POST http://192.168.69.234:11343/api/embed \"HTTP/1.1 200 OK\"\n",
      "INFO:httpx:HTTP Request: POST http://192.168.69.234:11343/api/embed \"HTTP/1.1 200 OK\"\n",
      "INFO:httpx:HTTP Request: POST http://192.168.69.234:11343/api/embed \"HTTP/1.1 200 OK\"\n",
      "INFO:httpx:HTTP Request: POST http://192.168.69.234:11343/api/embed \"HTTP/1.1 200 OK\"\n",
      "INFO:httpx:HTTP Request: POST http://192.168.69.234:11343/api/embed \"HTTP/1.1 200 OK\"\n",
      "INFO:httpx:HTTP Request: POST http://192.168.69.234:11343/api/embed \"HTTP/1.1 200 OK\"\n",
      "INFO:lightrag:Writing graph with 66 nodes, 89 edges\n"
     ]
    }
   ],
   "source": [
    "await rag.ainsert(need_to_insert_data)"
   ]
  },
  {
   "cell_type": "markdown",
   "metadata": {},
   "source": [
    "### 可视化本地图为网页"
   ]
  },
  {
   "cell_type": "code",
   "execution_count": 25,
   "metadata": {},
   "outputs": [
    {
     "name": "stdout",
     "output_type": "stream",
     "text": [
      "Warning: When  cdn_resources is 'local' jupyter notebook has issues displaying graphics on chrome/safari. Use cdn_resources='in_line' or cdn_resources='remote' if you have issues viewing graphics in a notebook.\n",
      "../data/test_paper/knowledge_graph.html\n"
     ]
    },
    {
     "data": {
      "text/html": [
       "\n",
       "        <iframe\n",
       "            width=\"100%\"\n",
       "            height=\"100vh\"\n",
       "            src=\"../data/test_paper/knowledge_graph.html\"\n",
       "            frameborder=\"0\"\n",
       "            allowfullscreen\n",
       "            \n",
       "        ></iframe>\n",
       "        "
      ],
      "text/plain": [
       "<IPython.lib.display.IFrame at 0x7f93789c4dd0>"
      ]
     },
     "execution_count": 25,
     "metadata": {},
     "output_type": "execute_result"
    }
   ],
   "source": [
    "import networkx as nx\n",
    "from pyvis.network import Network\n",
    "import random\n",
    "\n",
    "# Load the GraphML file\n",
    "G = nx.read_graphml(\"../data/test_paper/graph_chunk_entity_relation.graphml\")\n",
    "\n",
    "# Create a Pyvis network\n",
    "net = Network(height=\"100vh\", notebook=True)\n",
    "\n",
    "# Convert NetworkX graph to Pyvis network\n",
    "net.from_nx(G)\n",
    "\n",
    "# Add colors to nodes\n",
    "for node in net.nodes:\n",
    "    node[\"color\"] = \"#{:06x}\".format(random.randint(0, 0xFFFFFF))\n",
    "\n",
    "# Save and display the network\n",
    "net.show(\"../data/test_paper/knowledge_graph.html\")\n"
   ]
  },
  {
   "cell_type": "markdown",
   "metadata": {},
   "source": [
    "### 可视化本地图到 neo4j"
   ]
  },
  {
   "cell_type": "code",
   "execution_count": 26,
   "metadata": {},
   "outputs": [
    {
     "name": "stdout",
     "output_type": "stream",
     "text": [
      "Root element: {http://graphml.graphdrawing.org/xmlns}graphml\n",
      "Root attributes: {'{http://www.w3.org/2001/XMLSchema-instance}schemaLocation': 'http://graphml.graphdrawing.org/xmlns http://graphml.graphdrawing.org/xmlns/1.0/graphml.xsd'}\n",
      "Found 48 nodes and 58 edges\n",
      "JSON file created: ../data/test_paper/graph_data.json\n"
     ]
    }
   ],
   "source": [
    "import os\n",
    "import json\n",
    "from lightrag.utils import xml_to_json\n",
    "from neo4j import GraphDatabase\n",
    "\n",
    "# Constants\n",
    "BATCH_SIZE_NODES = 500\n",
    "BATCH_SIZE_EDGES = 100\n",
    "\n",
    "# Neo4j connection credentials\n",
    "NEO4J_URI = \"bolt://localhost:7687\"\n",
    "NEO4J_USERNAME = \"neo4j\"\n",
    "NEO4J_PASSWORD = \"12345678\"\n",
    "\n",
    "\n",
    "def convert_xml_to_json(xml_path, output_path):\n",
    "    \"\"\"Converts XML file to JSON and saves the output.\"\"\"\n",
    "    if not os.path.exists(xml_path):\n",
    "        print(f\"Error: File not found - {xml_path}\")\n",
    "        return None\n",
    "\n",
    "    json_data = xml_to_json(xml_path)\n",
    "    if json_data:\n",
    "        with open(output_path, \"w\", encoding=\"utf-8\") as f:\n",
    "            json.dump(json_data, f, ensure_ascii=False, indent=2)\n",
    "        print(f\"JSON file created: {output_path}\")\n",
    "        return json_data\n",
    "    else:\n",
    "        print(\"Failed to create JSON data\")\n",
    "        return None\n",
    "\n",
    "\n",
    "def process_in_batches(tx, query, data, batch_size):\n",
    "    \"\"\"Process data in batches and execute the given query.\"\"\"\n",
    "    for i in range(0, len(data), batch_size):\n",
    "        batch = data[i : i + batch_size]\n",
    "        tx.run(query, {\"nodes\": batch} if \"nodes\" in query else {\"edges\": batch})\n",
    "\n",
    "\n",
    "def main():\n",
    "    # Paths\n",
    "    xml_file = os.path.join(WORKING_DIR, \"graph_chunk_entity_relation.graphml\")\n",
    "    json_file = os.path.join(WORKING_DIR, \"graph_data.json\")\n",
    "\n",
    "    # Convert XML to JSON\n",
    "    json_data = convert_xml_to_json(xml_file, json_file)\n",
    "    if json_data is None:\n",
    "        return\n",
    "\n",
    "    # Load nodes and edges\n",
    "    nodes = json_data.get(\"nodes\", [])\n",
    "    edges = json_data.get(\"edges\", [])\n",
    "\n",
    "    # Neo4j queries\n",
    "    create_nodes_query = \"\"\"\n",
    "    UNWIND $nodes AS node\n",
    "    MERGE (e:Entity {id: node.id})\n",
    "    SET e.entity_type = node.entity_type,\n",
    "        e.description = node.description,\n",
    "        e.source_id = node.source_id,\n",
    "        e.displayName = node.id\n",
    "    REMOVE e:Entity\n",
    "    WITH e, node\n",
    "    CALL apoc.create.addLabels(e, [node.entity_type]) YIELD node AS labeledNode\n",
    "    RETURN count(*)\n",
    "    \"\"\"\n",
    "\n",
    "    create_edges_query = \"\"\"\n",
    "    UNWIND $edges AS edge\n",
    "    MATCH (source {id: edge.source})\n",
    "    MATCH (target {id: edge.target})\n",
    "    WITH source, target, edge,\n",
    "         CASE\n",
    "            WHEN edge.keywords CONTAINS 'lead' THEN 'lead'\n",
    "            WHEN edge.keywords CONTAINS 'participate' THEN 'participate'\n",
    "            WHEN edge.keywords CONTAINS 'uses' THEN 'uses'\n",
    "            WHEN edge.keywords CONTAINS 'located' THEN 'located'\n",
    "            WHEN edge.keywords CONTAINS 'occurs' THEN 'occurs'\n",
    "           ELSE REPLACE(SPLIT(edge.keywords, ',')[0], '\\\"', '')\n",
    "         END AS relType\n",
    "    CALL apoc.create.relationship(source, relType, {\n",
    "      weight: edge.weight,\n",
    "      description: edge.description,\n",
    "      keywords: edge.keywords,\n",
    "      source_id: edge.source_id\n",
    "    }, target) YIELD rel\n",
    "    RETURN count(*)\n",
    "    \"\"\"\n",
    "\n",
    "    set_displayname_and_labels_query = \"\"\"\n",
    "    MATCH (n)\n",
    "    SET n.displayName = n.id\n",
    "    WITH n\n",
    "    CALL apoc.create.setLabels(n, [n.entity_type]) YIELD node\n",
    "    RETURN count(*)\n",
    "    \"\"\"\n",
    "\n",
    "    # Create a Neo4j driver\n",
    "    driver = GraphDatabase.driver(NEO4J_URI, auth=(NEO4J_USERNAME, NEO4J_PASSWORD))\n",
    "\n",
    "    try:\n",
    "        # Execute queries in batches\n",
    "        with driver.session() as session:\n",
    "            # Insert nodes in batches\n",
    "            session.execute_write(\n",
    "                process_in_batches, create_nodes_query, nodes, BATCH_SIZE_NODES\n",
    "            )\n",
    "\n",
    "            # Insert edges in batches\n",
    "            session.execute_write(\n",
    "                process_in_batches, create_edges_query, edges, BATCH_SIZE_EDGES\n",
    "            )\n",
    "\n",
    "            # Set displayName and labels\n",
    "            session.run(set_displayname_and_labels_query)\n",
    "\n",
    "    except Exception as e:\n",
    "        print(f\"Error occurred: {e}\")\n",
    "\n",
    "    finally:\n",
    "        driver.close()\n",
    "\n",
    "\n",
    "main()\n"
   ]
  },
  {
   "cell_type": "code",
   "execution_count": 27,
   "metadata": {},
   "outputs": [
    {
     "name": "stderr",
     "output_type": "stream",
     "text": [
      "INFO:httpx:HTTP Request: POST https://dashscope.aliyuncs.com/compatible-mode/v1/chat/completions \"HTTP/1.1 200 OK\"\n",
      "INFO:httpx:HTTP Request: POST http://192.168.69.234:11343/api/embed \"HTTP/1.1 200 OK\"\n",
      "DEBUG:lightrag:local query 从实体数据库中获取的信息 [{'__id__': 'ent-07064580d380246514eec30e9aa69df8', 'entity_name': '\"汤庸\"', '__metrics__': 0.6949922203642276, 'id': 'ent-07064580d380246514eec30e9aa69df8', 'distance': 0.6949922203642276}, {'__id__': 'ent-2bbfea4f1f8d06fbc7004847db5d5744', 'entity_name': '\"王驹\"', '__metrics__': 0.562706965841677, 'id': 'ent-2bbfea4f1f8d06fbc7004847db5d5744', 'distance': 0.562706965841677}, {'__id__': 'ent-cf179b5ea5ce2e7222e9bee097e16cce', 'entity_name': '\"基于描述逻辑的CIM模型\"', '__metrics__': 0.5604659369693408, 'id': 'ent-cf179b5ea5ce2e7222e9bee097e16cce', 'distance': 0.5604659369693408}, {'__id__': 'ent-7e0a59edda8d2cdfb7a2fb5c44dbf716', 'entity_name': '\"软件学报\"', '__metrics__': 0.5593587167353271, 'id': 'ent-7e0a59edda8d2cdfb7a2fb5c44dbf716', 'distance': 0.5593587167353271}, {'__id__': 'ent-1d228cdecece9a09030b27e1604e888d', 'entity_name': '\"蒋运承\"', '__metrics__': 0.5544030135350999, 'id': 'ent-1d228cdecece9a09030b27e1604e888d', 'distance': 0.5544030135350999}, {'__id__': 'ent-e03af40d625644a182a294e13b8abb20', 'entity_name': '\"基于描述逻辑的带属性依赖时序ER模型\"', '__metrics__': 0.5463760592736616, 'id': 'ent-e03af40d625644a182a294e13b8abb20', 'distance': 0.5463760592736616}, {'__id__': 'ent-6c1ea323a2e506416107a449a4b6109e', 'entity_name': '\"冀高峰\"', '__metrics__': 0.5318601698375764, 'id': 'ent-6c1ea323a2e506416107a449a4b6109e', 'distance': 0.5318601698375764}, {'__id__': 'ent-9c18f98ce7f4b6941ed1ade8d96a2f0b', 'entity_name': '\"周生明\"', '__metrics__': 0.5261298691450778, 'id': 'ent-9c18f98ce7f4b6941ed1ade8d96a2f0b', 'distance': 0.5261298691450778}, {'__id__': 'ent-bbfee946a284a31bdb25d5f3ab20e200', 'entity_name': '\"微电子学与计算机\"', '__metrics__': 0.5240087372146167, 'id': 'ent-bbfee946a284a31bdb25d5f3ab20e200', 'distance': 0.5240087372146167}, {'__id__': 'ent-36dfa6f3b1bede42732f7955f02e42d6', 'entity_name': '\"计算机研究与发展\"', '__metrics__': 0.520256102980958, 'id': 'ent-36dfa6f3b1bede42732f7955f02e42d6', 'distance': 0.520256102980958}, {'__id__': 'ent-ef068ca69a4899a5643e0d1aba9a98bf', 'entity_name': '\"时态知识和时态数据的统一模型研究\"', '__metrics__': 0.5182392801576272, 'id': 'ent-ef068ca69a4899a5643e0d1aba9a98bf', 'distance': 0.5182392801576272}, {'__id__': 'ent-41bd4ea5a269bb39cfe9bd67ddc11ee9', 'entity_name': '\"2007\"', '__metrics__': 0.5177330143100256, 'id': 'ent-41bd4ea5a269bb39cfe9bd67ddc11ee9', 'distance': 0.5177330143100256}, {'__id__': 'ent-80bd88169074d65a7ff479f2f0b1e327', 'entity_name': '\"55-58\"', '__metrics__': 0.5170593301956541, 'id': 'ent-80bd88169074d65a7ff479f2f0b1e327', 'distance': 0.5170593301956541}, {'__id__': 'ent-a39fbf2436718ba5a23a8d470066879d', 'entity_name': '\"基于时限的角色访问控制委托模型\"', '__metrics__': 0.5159837208605592, 'id': 'ent-a39fbf2436718ba5a23a8d470066879d', 'distance': 0.5159837208605592}, {'__id__': 'ent-5571067e8d33eea43834131f2f227d8d', 'entity_name': '\"2008\"', '__metrics__': 0.5150832284316211, 'id': 'ent-5571067e8d33eea43834131f2f227d8d', 'distance': 0.5150832284316211}, {'__id__': 'ent-99cbc36347b1d0887d33339d8a091d02', 'entity_name': '\"汤娜\"', '__metrics__': 0.5116053770447062, 'id': 'ent-99cbc36347b1d0887d33339d8a091d02', 'distance': 0.5116053770447062}, {'__id__': 'ent-a47e01cf2b49e9ec178115ba44ff8f5a', 'entity_name': '\"叶小平\"', '__metrics__': 0.510919537625347, 'id': 'ent-a47e01cf2b49e9ec178115ba44ff8f5a', 'distance': 0.510919537625347}, {'__id__': 'ent-fecf521e45470f40454e1314365e0529', 'entity_name': '\"1765～1773\"', '__metrics__': 0.5021935666424633, 'id': 'ent-fecf521e45470f40454e1314365e0529', 'distance': 0.5021935666424633}, {'__id__': 'ent-44f4e216462eeb83ad9e7cb8d04bc162', 'entity_name': '\"44(10)\"', '__metrics__': 0.4933432888053447, 'id': 'ent-44f4e216462eeb83ad9e7cb8d04bc162', 'distance': 0.4933432888053447}, {'__id__': 'ent-0e3b932bfe4390d5cb14547436ce83a1', 'entity_name': '\"24(012)\"', '__metrics__': 0.4929320795343832, 'id': 'ent-0e3b932bfe4390d5cb14547436ce83a1', 'distance': 0.4929320795343832}, {'__id__': 'ent-d3cf7f00222699697fc4c7c8d6e42641', 'entity_name': '\"2005年5月\"', '__metrics__': 0.49177983524906727, 'id': 'ent-d3cf7f00222699697fc4c7c8d6e42641', 'distance': 0.49177983524906727}, {'__id__': 'ent-6919127950dc52b5dea112f9cb3ec0a6', 'entity_name': '\"1998\"', '__metrics__': 0.4912936539716609, 'id': 'ent-6919127950dc52b5dea112f9cb3ec0a6', 'distance': 0.4912936539716609}, {'__id__': 'ent-d9ecd464b26e102ec313a9ba14d2b5d7', 'entity_name': '\"杨虹轶\"', '__metrics__': 0.49078448276512054, 'id': 'ent-d9ecd464b26e102ec313a9ba14d2b5d7', 'distance': 0.49078448276512054}, {'__id__': 'ent-d4a754f924c124d491e85e8c8da373fc', 'entity_name': '\"35（3）:175-177\"', '__metrics__': 0.4902660393314888, 'id': 'ent-d4a754f924c124d491e85e8c8da373fc', 'distance': 0.4902660393314888}, {'__id__': 'ent-346d224f8953c887760b0eb2249a7570', 'entity_name': '\"道炜\"', '__metrics__': 0.48995618087874493, 'id': 'ent-346d224f8953c887760b0eb2249a7570', 'distance': 0.48995618087874493}, {'__id__': 'ent-8f4959a3dbd0a144225a00340778e25f', 'entity_name': '\"傅秀芬\"', '__metrics__': 0.48811660844263494, 'id': 'ent-8f4959a3dbd0a144225a00340778e25f', 'distance': 0.48811660844263494}, {'__id__': 'ent-1d8d60ab0dc9365bbdf5a7ad763557b0', 'entity_name': '\"时态变量“NOW”语义及相应时态关系运算\"', '__metrics__': 0.48598146072665116, 'id': 'ent-1d8d60ab0dc9365bbdf5a7ad763557b0', 'distance': 0.48598146072665116}, {'__id__': 'ent-bfad6cd9d0fca5f3c8b185e5f0b8d384', 'entity_name': '\"工业工程\"', '__metrics__': 0.48591270265815295, 'id': 'ent-bfad6cd9d0fca5f3c8b185e5f0b8d384', 'distance': 0.48591270265815295}, {'__id__': 'ent-101cb817e4c9e79b308e7b0d41746414', 'entity_name': '\"计算机支持的协同工作概观\"', '__metrics__': 0.4855092824631341, 'id': 'ent-101cb817e4c9e79b308e7b0d41746414', 'distance': 0.4855092824631341}, {'__id__': 'ent-8155d72a34921be1f696a7caaf46627d', 'entity_name': '\"计算机工程与应用\"', '__metrics__': 0.48091552825781103, 'id': 'ent-8155d72a34921be1f696a7caaf46627d', 'distance': 0.48091552825781103}, {'__id__': 'ent-210147236a89b38c0e22bcee37a1b5e4', 'entity_name': '\"中国\"', '__metrics__': 0.48033340128173774, 'id': 'ent-210147236a89b38c0e22bcee37a1b5e4', 'distance': 0.48033340128173774}, {'__id__': 'ent-895d44047f8c3a2f27cf618d9c6720e6', 'entity_name': '\"10-12\"', '__metrics__': 0.4759592080547853, 'id': 'ent-895d44047f8c3a2f27cf618d9c6720e6', 'distance': 0.4759592080547853}, {'__id__': 'ent-e47219f8fda507b72d4ecf8067184ce7', 'entity_name': '\"计算机科学\"', '__metrics__': 0.4750130603863371, 'id': 'ent-e47219f8fda507b72d4ecf8067184ce7', 'distance': 0.4750130603863371}, {'__id__': 'ent-a3d76ae5b8c65fc1fad0f768ea79cc30', 'entity_name': '\"2008.03\"', '__metrics__': 0.4664294560363785, 'id': 'ent-a3d76ae5b8c65fc1fad0f768ea79cc30', 'distance': 0.4664294560363785}, {'__id__': 'ent-4282c4113458c08b608fd0448769168c', 'entity_name': '\"14(S),74-79\"', '__metrics__': 0.4658319320716737, 'id': 'ent-4282c4113458c08b608fd0448769168c', 'distance': 0.4658319320716737}, {'__id__': 'ent-e5b00c6833a36beefabf037b0b7a1fd4', 'entity_name': '\"16(5)\"', '__metrics__': 0.46431851711873157, 'id': 'ent-e5b00c6833a36beefabf037b0b7a1fd4', 'distance': 0.46431851711873157}, {'__id__': 'ent-5a9ae8d74ad19b86805eee9f3251c751', 'entity_name': '\"838-845\"', '__metrics__': 0.4637142112905366, 'id': 'ent-5a9ae8d74ad19b86805eee9f3251c751', 'distance': 0.4637142112905366}, {'__id__': 'ent-fd2eea2cc85b1203faf18a258074d945', 'entity_name': '\"期刊论文\"', '__metrics__': 0.4616502621065864, 'id': 'ent-fd2eea2cc85b1203faf18a258074d945', 'distance': 0.4616502621065864}, {'__id__': 'ent-e0f9a2790f379209b737eebd3323362d', 'entity_name': '\"2(003)\"', '__metrics__': 0.4559938447045619, 'id': 'ent-e0f9a2790f379209b737eebd3323362d', 'distance': 0.4559938447045619}, {'__id__': 'ent-e0d26976c510ee67bdf60bc02d543fc2', 'entity_name': '\"2003.11\"', '__metrics__': 0.45336115083338696, 'id': 'ent-e0d26976c510ee67bdf60bc02d543fc2', 'distance': 0.45336115083338696}, {'__id__': 'ent-1c66897a0cfd7ccc779badf2fba640bc', 'entity_name': '\"2005\"', '__metrics__': 0.45025917655668746, 'id': 'ent-1c66897a0cfd7ccc779badf2fba640bc', 'distance': 0.45025917655668746}, {'__id__': 'ent-b21ae403b94ba624665e25b0468030df', 'entity_name': '\"1999\"', '__metrics__': 0.4376146139114091, 'id': 'ent-b21ae403b94ba624665e25b0468030df', 'distance': 0.4376146139114091}, {'__id__': 'ent-7dd3a85c98d677027bd19c91914aba22', 'entity_name': '\"肖炜\"', '__metrics__': 0.43496771631090714, 'id': 'ent-7dd3a85c98d677027bd19c91914aba22', 'distance': 0.43496771631090714}, {'__id__': 'ent-c0f6ddb819e990b0dc9ca8d91308dc08', 'entity_name': '\"1999.01\"', '__metrics__': 0.42559946219689443, 'id': 'ent-c0f6ddb819e990b0dc9ca8d91308dc08', 'distance': 0.42559946219689443}, {'__id__': 'ent-f17da931e7358396d7f517cb57d9c472', 'entity_name': '\"冯智圣\"', '__metrics__': 0.41895947755860763, 'id': 'ent-f17da931e7358396d7f517cb57d9c472', 'distance': 0.41895947755860763}, {'__id__': 'ent-d2ab1462cecf23acf3aa4c3c8a26a21b', 'entity_name': '\"EI\"', '__metrics__': 0.3935519068593359, 'id': 'ent-d2ab1462cecf23acf3aa4c3c8a26a21b', 'distance': 0.3935519068593359}, {'__id__': 'ent-6c021695f59e7cc7941760fe7e0352e0', 'entity_name': '\"基于WWW的交互式网络课件系统的开发技术\"', '__metrics__': 0.38363735040656155, 'id': 'ent-6c021695f59e7cc7941760fe7e0352e0', 'distance': 0.38363735040656155}]\n",
      "INFO:lightrag:Local query uses 47 entites, 58 relations, 7 text units\n",
      "INFO:httpx:HTTP Request: POST http://192.168.69.234:11343/api/embed \"HTTP/1.1 200 OK\"\n",
      "INFO:lightrag:Global query uses 47 entites, 58 relations, 7 text units\n",
      "INFO:httpx:HTTP Request: POST https://dashscope.aliyuncs.com/compatible-mode/v1/chat/completions \"HTTP/1.1 200 OK\"\n"
     ]
    },
    {
     "name": "stdout",
     "output_type": "stream",
     "text": [
      "汤庸是一位活跃的计算机科学领域的研究人员，发表了多篇具有影响力的论文。以下是汤庸的主要论文列表：\n",
      "\n",
      "### 1. **计算机支持的协同工作概观**\n",
      "- **标题**: 计算机支持的协同工作概观\n",
      "- **作者**: 汤庸\n",
      "- **来源**: 工业工程, 1999, 2(003): 10-12\n",
      "- **日期**: 1999.01\n",
      "- **类型**: 期刊论文\n",
      "\n",
      "### 2. **基于描述逻辑的CIM模型**\n",
      "- **标题**: 基于描述逻辑的CIM模型\n",
      "- **作者**: 蒋运承, 汤庸, 王驹, 周生明\n",
      "- **来源**: 微电子学与计算机, 2007, 24(012): 55-58\n",
      "- **日期**: 2007.-\n",
      "- **类型**: 期刊论文\n",
      "\n",
      "### 3. **基于描述逻辑的带属性依赖时序ER模型**\n",
      "- **标题**: 基于描述逻辑的带属性依赖时序ER模型\n",
      "- **作者**: 蒋运承, 汤庸, 王驹, 冀高峰\n",
      "- **来源**: 计算机研究与发展, 2007, 44(10): 1765-1773\n",
      "- **日期**: 2007.10\n",
      "- **类型**: 期刊论文\n",
      "\n",
      "### 4. **时态知识和时态数据的统一模型研究**\n",
      "- **标题**: 时态知识和时态数据的统一模型研究\n",
      "- **作者**: 汤庸, 汤娜, 叶小平, 冯智圣, 肖炜\n",
      "- **来源**: 软件学报, 2003, 14(S), 74-79 【EI】\n",
      "- **日期**: 2003.11\n",
      "- **类型**: 期刊论文\n",
      "\n",
      "### 5. **基于时限的角色访问控制委托模型**\n",
      "- **标题**: 基于时限的角色访问控制委托模型\n",
      "- **作者**: 道炜, 汤庸, 冀高峰, 杨虹轶\n",
      "- **来源**: 计算机科学, 2008, 35(3): 175-177\n",
      "- **日期**: 2008.03\n",
      "- **类型**: 期刊论文\n",
      "\n",
      "### 6. **时态变量“Now”语义及相应时态关系运算**\n",
      "- **标题**: 时态变量“Now”语义及相应时态关系运算\n",
      "- **作者**: 叶小平, 汤庸\n",
      "- **来源**: 软件学报, 2005, 16(5): 838-845\n",
      "- **日期**: 2005.05\n",
      "- **类型**: 期刊论文\n",
      "\n",
      "### 7. **基于WWW的交互式网络课件系统的开发技术**\n",
      "- **标题**: 基于WWW的交互式网络课件系统的开发技术\n",
      "- **作者**: 傅秀芬, 汤庸\n",
      "- **来源**: 计算机工程与应用\n",
      "- **日期**: 1998.-\n",
      "- **类型**: 期刊论文\n",
      "\n",
      "### 评论\n",
      "汤庸的研究涵盖了多个领域，包括计算机支持的协同工作、描述逻辑、时态数据管理、角色访问控制等。他的研究不仅在理论上有深入的探讨，也在实际应用中提供了有价值的解决方案。这些论文的发表时间和期刊也反映了他在不同时间段内的研究重点和成果。\n",
      "\n",
      "通过这些论文，可以看出汤庸在计算机科学领域的广泛影响力和深厚的专业知识。他的研究为相关领域的学者和从业者提供了重要的参考和借鉴。\n"
     ]
    }
   ],
   "source": [
    "print(\n",
    "    await rag.aquery(\n",
    "        \"汤庸发表过哪些论文？\",\n",
    "        param=QueryParam(mode=\"hybrid\"),\n",
    "    )\n",
    ")"
   ]
  }
 ],
 "metadata": {
  "kernelspec": {
   "display_name": "Python 3",
   "language": "python",
   "name": "python3"
  },
  "language_info": {
   "codemirror_mode": {
    "name": "ipython",
    "version": 3
   },
   "file_extension": ".py",
   "mimetype": "text/x-python",
   "name": "python",
   "nbconvert_exporter": "python",
   "pygments_lexer": "ipython3",
   "version": "3.11.9"
  }
 },
 "nbformat": 4,
 "nbformat_minor": 2
}
